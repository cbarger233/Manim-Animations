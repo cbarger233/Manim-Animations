{
 "cells": [
  {
   "cell_type": "code",
   "execution_count": 2,
   "metadata": {},
   "outputs": [],
   "source": [
    "import numpy as np\n",
    "import statistics as stat\n",
    "import math\n",
    "from math import comb\n",
    "from itertools import permutations\n",
    "import pandas as pd\n",
    "from matplotlib import pyplot as plt\n",
    "%matplotlib inline\n"
   ]
  },
  {
   "cell_type": "code",
   "execution_count": 3,
   "metadata": {},
   "outputs": [],
   "source": [
    "def einstein_multiplicity(N, q):\n",
    "    return comb(q+N-1, q)"
   ]
  },
  {
   "cell_type": "code",
   "execution_count": 4,
   "metadata": {},
   "outputs": [
    {
     "data": {
      "text/plain": [
       "28"
      ]
     },
     "execution_count": 4,
     "metadata": {},
     "output_type": "execute_result"
    }
   ],
   "source": [
    "einstein_multiplicity(3, 6)"
   ]
  },
  {
   "cell_type": "code",
   "execution_count": 5,
   "metadata": {},
   "outputs": [],
   "source": [
    "mult_A = []\n",
    "mult_B = []\n",
    "mult_total = []\n",
    "\n",
    "energy_units = 100\n",
    "num_oscillators_A = 200\n",
    "num_oscillators_B = 200\n",
    "q_A = 0\n",
    "q_B = energy_units\n",
    "for i in range(0, energy_units + 1):\n",
    "    mult_A.append(einstein_multiplicity(num_oscillators_A, q_A))\n",
    "    mult_B.append(einstein_multiplicity(num_oscillators_B, q_B))\n",
    "    mult_total.append(mult_A[i] * mult_B[i])\n",
    "    q_A = q_A + 1\n",
    "    q_B = q_B - 1"
   ]
  },
  {
   "cell_type": "code",
   "execution_count": 6,
   "metadata": {},
   "outputs": [
    {
     "data": {
      "text/plain": [
       "<BarContainer object of 101 artists>"
      ]
     },
     "execution_count": 6,
     "metadata": {},
     "output_type": "execute_result"
    },
    {
     "data": {
      "image/png": "[encoded data removed]",
      "text/plain": [
       "<Figure size 432x288 with 1 Axes>"
      ]
     },
     "metadata": {
      "needs_background": "light"
     },
     "output_type": "display_data"
    }
   ],
   "source": [
    "plt.bar(range(0,energy_units+1), mult_total)"
   ]
  },
  {
   "cell_type": "code",
   "execution_count": 7,
   "metadata": {},
   "outputs": [],
   "source": [
    "df = pd.DataFrame(list(zip(mult_A, mult_B, mult_total)), columns=['Omega_A', 'Omega_B', 'Total'])\n",
    "#df.Omega_A = df.Omega_A.apply(lambda x: np.format_float_scientific(x, 2))\n",
    "#df.Omega_B = df.Omega_B.apply(lambda x: np.format_float_scientific(x, 2))\n",
    "#df.Total = df.Total.apply(lambda x: np.format_float_scientific(x, 2))\n",
    "#df.head(60)"
   ]
  },
  {
   "cell_type": "code",
   "execution_count": 8,
   "metadata": {},
   "outputs": [
    {
     "data": {
      "text/plain": [
       "'1.6334e+107'"
      ]
     },
     "execution_count": 8,
     "metadata": {},
     "output_type": "execute_result"
    }
   ],
   "source": [
    "np.format_float_scientific(df['Total'].sum(), 4)"
   ]
  },
  {
   "cell_type": "code",
   "execution_count": 20,
   "metadata": {},
   "outputs": [
    {
     "data": {
      "text/plain": [
       "1.697222577073431e-24"
      ]
     },
     "execution_count": 20,
     "metadata": {},
     "output_type": "execute_result"
    }
   ],
   "source": [
    "total_list = df.Total.tolist()\n",
    "\n",
    "percentage=0\n",
    "for i in range(0, 1):\n",
    "    percentage += (total_list[i] / sum(total_list) * 100)\n",
    "percentage"
   ]
  },
  {
   "cell_type": "code",
   "execution_count": null,
   "metadata": {},
   "outputs": [],
   "source": []
  }
 ],
 "metadata": {
  "kernelspec": {
   "display_name": "Python 3.10.6 64-bit (microsoft store)",
   "language": "python",
   "name": "python3"
  },
  "language_info": {
   "codemirror_mode": {
    "name": "ipython",
    "version": 3
   },
   "file_extension": ".py",
   "mimetype": "text/x-python",
   "name": "python",
   "nbconvert_exporter": "python",
   "pygments_lexer": "ipython3",
   "version": "3.10.6"
  },
  "orig_nbformat": 4,
  "vscode": {
   "interpreter": {
    "hash": "ff20028bc8fb6738522320918fe5152defa8afbc949711b1ee41713bcdb1b9a7"
   }
  }
 },
 "nbformat": 4,
 "nbformat_minor": 2
}
