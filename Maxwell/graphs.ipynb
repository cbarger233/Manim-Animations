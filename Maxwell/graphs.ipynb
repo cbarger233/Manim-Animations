{
 "cells": [
  {
   "cell_type": "code",
   "execution_count": 1,
   "metadata": {},
   "outputs": [],
   "source": [
    "import numpy as np\n",
    "import statistics as stat\n",
    "import math\n",
    "from math import comb\n",
    "from itertools import permutations\n",
    "import pandas as pd\n",
    "from matplotlib import pyplot as plt\n",
    "%matplotlib inline\n"
   ]
  },
  {
   "cell_type": "code",
   "execution_count": 2,
   "metadata": {},
   "outputs": [],
   "source": [
    "def einstein_multiplicity(N, q):\n",
    "    return comb(q+N-1, q)"
   ]
  },
  {
   "cell_type": "code",
   "execution_count": 3,
   "metadata": {},
   "outputs": [],
   "source": [
    "mult_A = []\n",
    "mult_B = []\n",
    "mult_total = []\n",
    "\n",
    "energy_units = 100\n",
    "num_oscillators_A = 196\n",
    "num_oscillators_B = 196\n",
    "q_A = 0\n",
    "q_B = energy_units\n",
    "for i in range(0, energy_units + 1):\n",
    "    mult_A.append(einstein_multiplicity(num_oscillators_A, q_A))\n",
    "    mult_B.append(einstein_multiplicity(num_oscillators_B, q_B))\n",
    "    mult_total.append(mult_A[i] * mult_B[i])\n",
    "    q_A = q_A + 1\n",
    "    q_B = q_B - 1"
   ]
  },
  {
   "cell_type": "code",
   "execution_count": 4,
   "metadata": {},
   "outputs": [],
   "source": [
    "import seaborn as sns"
   ]
  },
  {
   "cell_type": "code",
   "execution_count": 5,
   "metadata": {},
   "outputs": [
    {
     "data": {
      "image/png": "[encoded data removed]",
      "text/plain": [
       "<Figure size 432x288 with 1 Axes>"
      ]
     },
     "metadata": {
      "needs_background": "dark"
     },
     "output_type": "display_data"
    }
   ],
   "source": [
    "plt.plot(range(0,energy_units+1), mult_total, color='m')\n",
    "plt.bar(range(0,energy_units+1), mult_total, color='m', width=0.67)\n",
    "plt.xlabel(\"$q_{\\mathrm{A}}$\", color=\"w\", fontsize=18)\n",
    "plt.ylabel(\"$\\Omega_{\\mathrm{total}}$\", color='w', fontsize=18)\n",
    "plt.tick_params(colors='w', which='both')\n",
    "plt.savefig('microstates.png')"
   ]
  },
  {
   "cell_type": "code",
   "execution_count": 6,
   "metadata": {},
   "outputs": [
    {
     "name": "stdout",
     "output_type": "stream",
     "text": [
      "Percentage of 45 to 55 balls being in A: 67.38069701777414\n",
      "Percentage of at least 40 balls being in A: 4.455246124754416\n",
      "Percentage of at least 30 balls being in A: 0.02042456704425532\n",
      "Percentage of at least 10 balls being in A: 9.997194994143285e-13\n",
      "Percentage of zero balls in A: 2.000977844003591e-24\n"
     ]
    }
   ],
   "source": [
    "df = pd.DataFrame(list(zip(mult_A, mult_B, mult_total)), columns=['Omega_A', 'Omega_B', 'Total'])\n",
    "sum = df['Total'].sum()\n",
    "p45to55 = df['Total'][45:56].sum() / sum\n",
    "p0to40 = df['Total'][0:41].sum() / sum\n",
    "p0to30 = df['Total'][0:31].sum() / sum\n",
    "p0to10 = df['Total'][0:11].sum() / sum\n",
    "p0 = df['Total'][0] / sum\n",
    "print(f\"Percentage of 45 to 55 balls being in A: {p45to55*100}\\n\"\n",
    "f\"Percentage of at least 40 balls being in A: {p0to40*100}\\n\"  \n",
    "f\"Percentage of at least 30 balls being in A: {p0to30*100}\\n\"\n",
    "f\"Percentage of at least 10 balls being in A: {p0to10*100}\\n\"\n",
    "f\"Percentage of zero balls in A: {p0*100}\")\n",
    "#df.head(60)"
   ]
  },
  {
   "cell_type": "code",
   "execution_count": 7,
   "metadata": {},
   "outputs": [],
   "source": [
    "df.Omega_A = df.Omega_A.apply(lambda x: np.format_float_scientific(x, 2))\n",
    "df.Omega_B = df.Omega_B.apply(lambda x: np.format_float_scientific(x, 2))\n",
    "df.Total = df.Total.apply(lambda x: np.format_float_scientific(x, 2))"
   ]
  },
  {
   "cell_type": "code",
   "execution_count": 8,
   "metadata": {},
   "outputs": [
    {
     "data": {
      "text/html": [
       "<div>\n",
       "<style scoped>\n",
       "    .dataframe tbody tr th:only-of-type {\n",
       "        vertical-align: middle;\n",
       "    }\n",
       "\n",
       "    .dataframe tbody tr th {\n",
       "        vertical-align: top;\n",
       "    }\n",
       "\n",
       "    .dataframe thead th {\n",
       "        text-align: right;\n",
       "    }\n",
       "</style>\n",
       "<table border=\"1\" class=\"dataframe\">\n",
       "  <thead>\n",
       "    <tr style=\"text-align: right;\">\n",
       "      <th></th>\n",
       "      <th>Omega_A</th>\n",
       "      <th>Omega_B</th>\n",
       "      <th>Total</th>\n",
       "    </tr>\n",
       "  </thead>\n",
       "  <tbody>\n",
       "    <tr>\n",
       "      <th>0</th>\n",
       "      <td>1.e+00</td>\n",
       "      <td>5.38e+80</td>\n",
       "      <td>5.38e+80</td>\n",
       "    </tr>\n",
       "    <tr>\n",
       "      <th>1</th>\n",
       "      <td>1.96e+02</td>\n",
       "      <td>1.83e+80</td>\n",
       "      <td>3.58e+82</td>\n",
       "    </tr>\n",
       "    <tr>\n",
       "      <th>2</th>\n",
       "      <td>1.93e+04</td>\n",
       "      <td>6.15e+79</td>\n",
       "      <td>1.19e+84</td>\n",
       "    </tr>\n",
       "    <tr>\n",
       "      <th>3</th>\n",
       "      <td>1.27e+06</td>\n",
       "      <td>2.06e+79</td>\n",
       "      <td>2.62e+85</td>\n",
       "    </tr>\n",
       "  </tbody>\n",
       "</table>\n",
       "</div>"
      ],
      "text/plain": [
       "    Omega_A   Omega_B     Total\n",
       "0    1.e+00  5.38e+80  5.38e+80\n",
       "1  1.96e+02  1.83e+80  3.58e+82\n",
       "2  1.93e+04  6.15e+79  1.19e+84\n",
       "3  1.27e+06  2.06e+79  2.62e+85"
      ]
     },
     "execution_count": 8,
     "metadata": {},
     "output_type": "execute_result"
    }
   ],
   "source": [
    "df[:4]"
   ]
  },
  {
   "cell_type": "code",
   "execution_count": 9,
   "metadata": {},
   "outputs": [
    {
     "data": {
      "text/html": [
       "<div>\n",
       "<style scoped>\n",
       "    .dataframe tbody tr th:only-of-type {\n",
       "        vertical-align: middle;\n",
       "    }\n",
       "\n",
       "    .dataframe tbody tr th {\n",
       "        vertical-align: top;\n",
       "    }\n",
       "\n",
       "    .dataframe thead th {\n",
       "        text-align: right;\n",
       "    }\n",
       "</style>\n",
       "<table border=\"1\" class=\"dataframe\">\n",
       "  <thead>\n",
       "    <tr style=\"text-align: right;\">\n",
       "      <th></th>\n",
       "      <th>Omega_A</th>\n",
       "      <th>Omega_B</th>\n",
       "      <th>Total</th>\n",
       "    </tr>\n",
       "  </thead>\n",
       "  <tbody>\n",
       "    <tr>\n",
       "      <th>49</th>\n",
       "      <td>8.92e+51</td>\n",
       "      <td>2.11e+53</td>\n",
       "      <td>1.88e+105</td>\n",
       "    </tr>\n",
       "    <tr>\n",
       "      <th>50</th>\n",
       "      <td>4.37e+52</td>\n",
       "      <td>4.37e+52</td>\n",
       "      <td>1.91e+105</td>\n",
       "    </tr>\n",
       "    <tr>\n",
       "      <th>51</th>\n",
       "      <td>2.11e+53</td>\n",
       "      <td>8.92e+51</td>\n",
       "      <td>1.88e+105</td>\n",
       "    </tr>\n",
       "  </tbody>\n",
       "</table>\n",
       "</div>"
      ],
      "text/plain": [
       "     Omega_A   Omega_B      Total\n",
       "49  8.92e+51  2.11e+53  1.88e+105\n",
       "50  4.37e+52  4.37e+52  1.91e+105\n",
       "51  2.11e+53  8.92e+51  1.88e+105"
      ]
     },
     "execution_count": 9,
     "metadata": {},
     "output_type": "execute_result"
    }
   ],
   "source": [
    "df[49:52]"
   ]
  },
  {
   "cell_type": "code",
   "execution_count": 10,
   "metadata": {},
   "outputs": [
    {
     "data": {
      "text/html": [
       "<div>\n",
       "<style scoped>\n",
       "    .dataframe tbody tr th:only-of-type {\n",
       "        vertical-align: middle;\n",
       "    }\n",
       "\n",
       "    .dataframe tbody tr th {\n",
       "        vertical-align: top;\n",
       "    }\n",
       "\n",
       "    .dataframe thead th {\n",
       "        text-align: right;\n",
       "    }\n",
       "</style>\n",
       "<table border=\"1\" class=\"dataframe\">\n",
       "  <thead>\n",
       "    <tr style=\"text-align: right;\">\n",
       "      <th></th>\n",
       "      <th>Omega_A</th>\n",
       "      <th>Omega_B</th>\n",
       "      <th>Total</th>\n",
       "    </tr>\n",
       "  </thead>\n",
       "  <tbody>\n",
       "    <tr>\n",
       "      <th>98</th>\n",
       "      <td>6.15e+79</td>\n",
       "      <td>1.93e+04</td>\n",
       "      <td>1.19e+84</td>\n",
       "    </tr>\n",
       "    <tr>\n",
       "      <th>99</th>\n",
       "      <td>1.83e+80</td>\n",
       "      <td>1.96e+02</td>\n",
       "      <td>3.58e+82</td>\n",
       "    </tr>\n",
       "    <tr>\n",
       "      <th>100</th>\n",
       "      <td>5.38e+80</td>\n",
       "      <td>1.e+00</td>\n",
       "      <td>5.38e+80</td>\n",
       "    </tr>\n",
       "  </tbody>\n",
       "</table>\n",
       "</div>"
      ],
      "text/plain": [
       "      Omega_A   Omega_B     Total\n",
       "98   6.15e+79  1.93e+04  1.19e+84\n",
       "99   1.83e+80  1.96e+02  3.58e+82\n",
       "100  5.38e+80    1.e+00  5.38e+80"
      ]
     },
     "execution_count": 10,
     "metadata": {},
     "output_type": "execute_result"
    }
   ],
   "source": [
    "df[98:]"
   ]
  }
 ],
 "metadata": {
  "kernelspec": {
   "display_name": "Python 3.10.6 64-bit (microsoft store)",
   "language": "python",
   "name": "python3"
  },
  "language_info": {
   "codemirror_mode": {
    "name": "ipython",
    "version": 3
   },
   "file_extension": ".py",
   "mimetype": "text/x-python",
   "name": "python",
   "nbconvert_exporter": "python",
   "pygments_lexer": "ipython3",
   "version": "3.10.7"
  },
  "orig_nbformat": 4,
  "vscode": {
   "interpreter": {
    "hash": "ff20028bc8fb6738522320918fe5152defa8afbc949711b1ee41713bcdb1b9a7"
   }
  }
 },
 "nbformat": 4,
 "nbformat_minor": 2
}
